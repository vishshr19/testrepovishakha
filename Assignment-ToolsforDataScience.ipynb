{
 "cells": [
  {
   "cell_type": "markdown",
   "id": "62cd76cf-91dd-492c-9f08-06f8daca13f8",
   "metadata": {},
   "source": [
    "Create a new Jupyter notebook called DataScienceEcosystem.ipynb"
   ]
  },
  {
   "cell_type": "markdown",
   "id": "4f187b27-60e2-4ac9-b4ce-454d1e30cc4e",
   "metadata": {},
   "source": [
    "# Data Science Tools and Ecosystem"
   ]
  },
  {
   "cell_type": "markdown",
   "id": "440d3fd1-8fb6-4405-a189-d2d4e93c7dba",
   "metadata": {},
   "source": [
    "In this notebook, Data Science Tools and Ecosystem are summarized."
   ]
  },
  {
   "cell_type": "markdown",
   "id": "de1cee32-5006-43a5-92d7-1666a59aea3f",
   "metadata": {},
   "source": [
    "**Objectives:**\n",
    "- List popular data science languages\n",
    "- List popular data science libraries\n",
    "- List popular data science tools"
   ]
  },
  {
   "cell_type": "markdown",
   "id": "8b45b29d-da56-4a82-9c99-1ad450759edd",
   "metadata": {},
   "source": [
    "Some of the popular languages that Data Scientists use are:\n",
    "1. Python\n",
    "2. R\n",
    "3. Scala\n",
    "4. Julia"
   ]
  },
  {
   "cell_type": "markdown",
   "id": "9b2a2525-654d-4e47-be47-15b780b6285a",
   "metadata": {},
   "source": [
    "Some of the commonly used libraries used by Data Scientists include:\n",
    "1. Numpy\n",
    "2. Pandas\n",
    "3. ggplot\n",
    "4. matplotlib"
   ]
  },
  {
   "cell_type": "markdown",
   "id": "04019804-c040-4e38-ab67-da2e33e75135",
   "metadata": {},
   "source": [
    "| Data Science Tools| \n",
    "|------------------| \n",
    "|Jupyter|\n",
    "|Apache Spark|\n",
    "|Apache Hadoop|"
   ]
  },
  {
   "cell_type": "markdown",
   "id": "69f8837b-3b11-460b-b24e-5da100bb6b19",
   "metadata": {},
   "source": [
    "### Below are a few examples of evaluating arithmetic expressions in Python"
   ]
  },
  {
   "cell_type": "code",
   "execution_count": 4,
   "id": "ed41b1bd-e604-4e8e-806c-8b63056df05b",
   "metadata": {},
   "outputs": [
    {
     "data": {
      "text/plain": [
       "17"
      ]
     },
     "execution_count": 4,
     "metadata": {},
     "output_type": "execute_result"
    }
   ],
   "source": [
    "# This a simple arithmetic expression to mutiply then add integers\n",
    "(3*4)+5"
   ]
  },
  {
   "cell_type": "code",
   "execution_count": 5,
   "id": "1c21f0da-1141-43d2-836f-2cc5f8f8b946",
   "metadata": {},
   "outputs": [
    {
     "data": {
      "text/plain": [
       "3.3333333333333335"
      ]
     },
     "execution_count": 5,
     "metadata": {},
     "output_type": "execute_result"
    }
   ],
   "source": [
    "# This will convert 200 minutes to hours by diving by 60\n",
    "minutes = 200\n",
    "hours = 200 / 60\n",
    "hours"
   ]
  },
  {
   "cell_type": "markdown",
   "id": "4891a14a-cd37-4755-91ed-af2bf5a0b577",
   "metadata": {},
   "source": [
    "## Author\n",
    "Vishakha"
   ]
  },
  {
   "cell_type": "code",
   "execution_count": null,
   "id": "c1cd5d9f-3863-4dbe-9290-47feb06f25ff",
   "metadata": {},
   "outputs": [],
   "source": []
  }
 ],
 "metadata": {
  "kernelspec": {
   "display_name": "Python 3 (ipykernel)",
   "language": "python",
   "name": "python3"
  },
  "language_info": {
   "codemirror_mode": {
    "name": "ipython",
    "version": 3
   },
   "file_extension": ".py",
   "mimetype": "text/x-python",
   "name": "python",
   "nbconvert_exporter": "python",
   "pygments_lexer": "ipython3",
   "version": "3.12.1"
  }
 },
 "nbformat": 4,
 "nbformat_minor": 5
}
